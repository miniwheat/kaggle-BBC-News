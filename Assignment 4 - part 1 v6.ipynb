{
 "cells": [
  {
   "cell_type": "markdown",
   "metadata": {},
   "source": [
    "# Peer-graded Assignment: Week 4: BBC News Classification Kaggle Mini-Project\n",
    "JF Schultz  \n",
    "Oct 2023  \n",
    "CU MSDS - DTSA 5510"
   ]
  },
  {
   "cell_type": "markdown",
   "metadata": {},
   "source": [
    "# Introduction"
   ]
  },
  {
   "cell_type": "markdown",
   "metadata": {},
   "source": [
    "This project examines the [Kaggle BBC News Classfication](https://www.kaggle.com/c/learn-ai-bbc) Challenge, specifically with a focus on the performance on non-negative matrix factorization in prediction.  \n",
    "\n",
    "A copy of this html report, it's jupyter notebook, and bare code can be found on [my GitHub repository](https://github.com/miniwheat/kaggle-BBC-News).  \n",
    "\n",
    "The entirety of the report is summarized in the Overview Section immediately below.  \n",
    "\n",
    "I welcome any commentary or discussion, please feel free to reach out to me on Slack."
   ]
  },
  {
   "cell_type": "markdown",
   "metadata": {},
   "source": [
    "# Overview and Summary"
   ]
  },
  {
   "cell_type": "markdown",
   "metadata": {},
   "source": [
    "The kaggle challenge is a **classification problem**.  A public dataset of BBC news articles is provided, each labeled as belonging to one of 5 categories: business, entertainment, politics, sport or tech.  The dataset of articles is divided into a training set of 1,490 articles with known category classification and 735 as a test set with unknown classification.  The desired task is to classify the test set of articles with accuracy as a scoring metric.  \n",
    "\n",
    "**Exploratory Data Analysis** was performed and expressed in terms of visualizations.  Duplicated articles were identified; the duplicates were confirmed to have the same Category classification and were removed.  The distribution of categories among the classified articles was not prohibitively unbalanced.  Before examining word counts, a helper function was used to clean and pre-process text.  This served to remove any numbers, punctuation, and lemmatize words to their stem, e.g. walk, walking, walks, walked lemmatized to walk. Word counts were then examined.  The average word count per article within each classified category was very similar for business, entertainment, and sport, and greater for articles about politics and tech, with the tech category having the noticeably greatest variation in word count per article.  The overall distribution of number of word occurrences was examined.  This showed that of the 24,456 words identified, only 5 occurred more than 1,000 times, and the overwhelming majority, 19,460 occurred less than ten times.  The distribution of words within the range from 100 - 1,000 showed most occurred at the lower frequencies.  The most common words overall were also identified and their relative counts visualized.  \n",
    "\n",
    "**Modeling and class prediction** was performed with non-negative matrix factorization (NMF).  The entire corpus of documents was used by combining the training and test sets.  The words of each article were tokenized by word count and weighted by tf-idf (term frequency-inverse document frequency) providing a measure of each term's frequency within a document compared to its frequency across all documents.  In essence the tfidf weighting helps identify words unique to specific articles, that is terms which are very frequent within an article and relatively uncommon across all articles are weighted more heavily.  NMF was used as an unsupervised learning technique to analyze the document-term matrix (X) and identify its component factor matrices (W) and (H) which respectively represent the document-topic matrix and the topic-term matrix for a specified number of k categories (5 in this case).  From the document-topic matrix, each document can be assigned to an identified \"topic group.\"  From the topic-term matrix, the most common words within each topic can be identified.  In the scenario where specified category labels are not provided, creating labeling for the categories would require the reviewer to assess the key words identified in each topic and assign decide a label, e.g. with words such as 'players', 'team', 'score', 'match' 'futbol' one might assign a label of 'sports.'  In this scenario, each document is assigned to a group number.  Given that a domain expert has already labeled the training set with category labels, the group numbers can easily be matched with their respective categories.  Articles in the test set with unknown classification were also assigned to a group number and in turn can then easily be labeled with the category label corresponding to the group number, thus completing prediction on the test set.  \n",
    "\n",
    "Modeling **results** were then assessed with training accuracy scoring, confusion matrix analysis, and testing accuracy scoring.  The initial modeling showed a training accuracy of 0.92223.  The confusion matrix showed that the predictions on business and politics (TPR 81.75% and 87.22%) were the least accurate, and that the overall most common incorrect prediction was as class tech.  Test accuracy was assessed on submission of predicted classification on the unknown labeled test set with an accuracy score of 0.93197.  Parameter tuning was performed to optimized the NMF modeling and prediction.  With the selection of using one-word and two-word ngrams (ngram_range (1,2)), multiplicative update solver (mu) with beta loss function kullback-leibler and slightly adjusting the minimum and maximum term frequencies, the training accuracy improved to 0.95637 and testing accuracy score improved with **kaggle score 0.96734**.  Visualization of the confusion matrix with the optimized model easily demonstrated the improvement in the two worse categories, business and politics (tuned TPR 93.98% and 97.72%) and much fewer mis-predictions as tech.  \n",
    "\n",
    "The results of classification with NMF were compared with **Supervised Learning** techniques.  Modeling was performed with multinomal Naive Bayes, Logistic Regression, Support Vector Machine, Random Forest, and K Nearest Neighbors techniques, and each assessed for training accuracy with results ranging from 0.94236 (k Nearest Neighbors) to 0.96597 (Logistic Regression).  The accuracy score on the tuned NMF prediction was the overall best result (noted that the supervised models were not hyperparameter tuned) and demonstrates the effectiveness of Non-negative Matrix Factorization as an Unsupervised Learning technique for classfication prediction."
   ]
  },
  {
   "cell_type": "markdown",
   "metadata": {},
   "source": [
    "# Exploratory Data Analysis"
   ]
  },
  {
   "cell_type": "markdown",
   "metadata": {},
   "source": [
    "## Data Cleaning and Preparation"
   ]
  },
  {
   "cell_type": "code",
   "execution_count": 2,
   "metadata": {},
   "outputs": [],
   "source": [
    "# import needed modules (for entire notebook)\n",
    "import pandas as pd\n",
    "import numpy as np\n",
    "import re\n",
    "from matplotlib import pyplot as plt\n",
    "import seaborn as sns\n",
    "from sklearn.feature_extraction.text import CountVectorizer, TfidfVectorizer\n",
    "from nltk.stem import WordNetLemmatizer\n",
    "from sklearn.decomposition import NMF\n",
    "from sklearn.model_selection import cross_val_score, GridSearchCV\n",
    "from sklearn.pipeline import make_pipeline, Pipeline\n",
    "from sklearn.metrics import accuracy_score, confusion_matrix, classification_report"
   ]
  },
  {
   "cell_type": "code",
   "execution_count": 3,
   "metadata": {},
   "outputs": [],
   "source": [
    "# import data\n",
    "\n",
    "train = pd.read_csv('data/BBC News Train.csv')\n",
    "test = pd.read_csv('data/BBC News Test.csv')"
   ]
  },
  {
   "cell_type": "markdown",
   "metadata": {},
   "source": [
    "## Check for duplicates"
   ]
  },
  {
   "cell_type": "code",
   "execution_count": 111,
   "metadata": {},
   "outputs": [
    {
     "name": "stdout",
     "output_type": "stream",
     "text": [
      "train set full size: (1490, 3)\n",
      "train set with n unique (not duplicated) Texts: 1440\n",
      "train set size (wihtout duplicates): (1440, 3)\n"
     ]
    }
   ],
   "source": [
    "print('train set full size:', train.shape)\n",
    "print('train set with n unique (not duplicated) Texts:', train['Text'].nunique())\n",
    "\n",
    "# Are any of duplicated texts differenct Category Classifications?\n",
    "\n",
    "first = train[train.duplicated(subset='Text', keep='first')]\n",
    "last = train[train.duplicated(subset='Text', keep='last')]\n",
    "last = last.rename(columns={'Category': 'Cat2'})\n",
    "merged = first.merge(last, on='Text', how='outer')\n",
    "assert(np.all(merged['Category'] == merged['Cat2']))\n",
    "\n",
    "# All of the duplicated entries have same categorization\n",
    "\n",
    "# Drop the duplicates\n",
    "\n",
    "train.drop_duplicates(subset='Text', keep='first', inplace=True)\n",
    "print('train set size (wihtout duplicates):', train.shape)"
   ]
  },
  {
   "cell_type": "code",
   "execution_count": 116,
   "metadata": {},
   "outputs": [
    {
     "data": {
      "text/plain": [
       "False"
      ]
     },
     "execution_count": 116,
     "metadata": {},
     "output_type": "execute_result"
    }
   ],
   "source": [
    "# check for NaNs\n",
    "np.any(train.isna()) # False\n",
    "np.any(test.isna())  # False"
   ]
  },
  {
   "cell_type": "markdown",
   "metadata": {},
   "source": [
    "## EDA Visualizations"
   ]
  },
  {
   "cell_type": "code",
   "execution_count": 119,
   "metadata": {},
   "outputs": [
    {
     "data": {
      "image/png": "[encoded data removed]",
      "text/plain": [
       "<Figure size 720x360 with 1 Axes>"
      ]
     },
     "metadata": {
      "needs_background": "light"
     },
     "output_type": "display_data"
    }
   ],
   "source": [
    "# Distribution of Groups\n",
    "category_counts = train.Category.value_counts()\n",
    "colors = ['tab:blue', 'tab:red', 'tab:green', 'tab:orange', 'tab:pink']\n",
    "# colors = ['lightblue', 'lightcoral', 'lightgreen', 'gold', 'lightpink']\n",
    "# colors = ['lightsteelblue', 'lightgrey', 'darkseagreen', 'khaki', 'lavender']\n",
    "\n",
    "fig, ax = plt.subplots(figsize=(10,5))\n",
    "ax.bar(category_counts.index, category_counts.values, color=colors)\n",
    "ax.set_title('Distribution of Groups', fontsize=20);"
   ]
  },
  {
   "cell_type": "code",
   "execution_count": 121,
   "metadata": {},
   "outputs": [],
   "source": [
    "# a helper function for data cleaning\n",
    "\n",
    "def clean_text(text):\n",
    "\n",
    "    # remove numbers\n",
    "    text = re.sub(r'\\d+', '', text)\n",
    "\n",
    "    # remove punctuation\n",
    "    text = re.sub(r'[^\\w\\s]', '', text)\n",
    "\n",
    "    # lemmatize\n",
    "    lemmatizer = WordNetLemmatizer()\n",
    "    lemmatizer.lemmatize(text)\n",
    "    \n",
    "    return text"
   ]
  },
  {
   "cell_type": "code",
   "execution_count": 122,
   "metadata": {},
   "outputs": [
    {
     "data": {
      "image/png": "[encoded data removed]",
      "text/plain": [
       "<Figure size 720x360 with 1 Axes>"
      ]
     },
     "metadata": {
      "needs_background": "light"
     },
     "output_type": "display_data"
    },
    {
     "data": {
      "image/png": "[encoded data removed]",
      "text/plain": [
       "<Figure size 720x360 with 1 Axes>"
      ]
     },
     "metadata": {
      "needs_background": "light"
     },
     "output_type": "display_data"
    }
   ],
   "source": [
    "# Average Word Count by Group\n",
    "\n",
    "# Clean the text first\n",
    "df = train.copy()\n",
    "df.Text = df.Text.apply(clean_text)\n",
    "\n",
    "# Find the word counts for each document\n",
    "df['word_count'] = [len(words) for words in df['Text'].str.split()]\n",
    "group_word_counts = df.groupby('Category')['word_count'].mean()\n",
    "\n",
    "# visualization 1:  mean word count by Group\n",
    "fig, ax = plt.subplots(figsize=(10,5))\n",
    "ax.bar(group_word_counts.index, group_word_counts.values, color=colors)\n",
    "ax.set_title('Average Word Count by Group', fontsize=20);\n",
    "\n",
    "# visualization 2:  Boxplot of Word Count by Group\n",
    "df.boxplot(by='Category', column='word_count', showfliers=False, grid=False, figsize=(10,5))\n",
    "plt.title('Word Count by Group', fontsize=20)\n",
    "plt.suptitle('')\n",
    "plt.xlabel('');"
   ]
  },
  {
   "cell_type": "markdown",
   "metadata": {},
   "source": [
    "The overall frequency of words was examined.  The following EDA shows that the vast majority of the words have very low frequency.  In turn, the total distibution of word frequency is not particularly informative.  However, data exploraton showed that almost 80% of the words occurred ten or fewer times, and only 5 words occurred more than 1,000 times.  The (selective) distibution of words occurring more than 100 and fewer than 1,000 times is shown, demonstrating an uneven distribution and more words occurring at lower frequency."
   ]
  },
  {
   "cell_type": "code",
   "execution_count": 123,
   "metadata": {},
   "outputs": [
    {
     "data": {
      "image/png": "[encoded data removed]",
      "text/plain": [
       "<Figure size 432x288 with 1 Axes>"
      ]
     },
     "metadata": {
      "needs_background": "light"
     },
     "output_type": "display_data"
    }
   ],
   "source": [
    "# Distribution of word counts (overall)\n",
    "\n",
    "vec = CountVectorizer(stop_words='english')\n",
    "X = vec.fit_transform(train.Text)\n",
    "counts = X.toarray().sum(axis=0)\n",
    "\n",
    "plt.hist(counts)\n",
    "plt.title('Distribution of Word Counts')\n",
    "plt.xlabel('Word Count (occurences)')\n",
    "plt.ylabel('Number of Words with Count');"
   ]
  },
  {
   "cell_type": "markdown",
   "metadata": {},
   "source": [
    "The distribution of the word counts is not particularly informative because there are so many low frequency words.  "
   ]
  },
  {
   "cell_type": "code",
   "execution_count": 125,
   "metadata": {},
   "outputs": [
    {
     "name": "stdout",
     "output_type": "stream",
     "text": [
      "total # words: 24456\n",
      "< 1000 count: 24451\n",
      "< 100 count: 23914\n",
      "< 10 count: 19460\n"
     ]
    }
   ],
   "source": [
    "# gross numerical distribution of word counts\n",
    "print('total # words:', len(counts))\n",
    "print('< 1000 count:', (counts < 1000).sum())\n",
    "print('< 100 count:', (counts < 100).sum())\n",
    "print('< 10 count:', (counts < 10).sum())"
   ]
  },
  {
   "cell_type": "code",
   "execution_count": 126,
   "metadata": {},
   "outputs": [
    {
     "data": {
      "image/png": "[encoded data removed]",
      "text/plain": [
       "<Figure size 720x360 with 1 Axes>"
      ]
     },
     "metadata": {
      "needs_background": "light"
     },
     "output_type": "display_data"
    }
   ],
   "source": [
    "# Combine the train and test sets\n",
    "\n",
    "full_set = pd.concat([train, test], axis=0, ignore_index=True)\n",
    "df = full_set.copy()\n",
    "df.Text = df.Text.apply(clean_text)\n",
    "\n",
    "# Determine the word counts\n",
    "\n",
    "vec = CountVectorizer(stop_words='english')\n",
    "X = vec.fit_transform(df.Text)\n",
    "counts = X.toarray().sum(axis=0)\n",
    "\n",
    "# Distribution of Word Counts (selective)\n",
    "\n",
    "fig, ax = plt.subplots(figsize=(10,5))\n",
    "\n",
    "ax.hist(counts[(counts >= 100) & (counts <= 1000)], bins=100)\n",
    "ax.set_title('Distibution of Word Counts (Overall - Selective*)', fontsize=20)\n",
    "ax.set_xlabel('Word Count (number of occurences)\\n(*limited to counts 100-1000)')\n",
    "ax.set_ylabel('Number of words with count');"
   ]
  },
  {
   "cell_type": "markdown",
   "metadata": {},
   "source": [
    "## Most Common Words (Overall)"
   ]
  },
  {
   "cell_type": "code",
   "execution_count": 127,
   "metadata": {},
   "outputs": [
    {
     "data": {
      "image/png": "[encoded data removed]",
      "text/plain": [
       "<Figure size 720x360 with 1 Axes>"
      ]
     },
     "metadata": {
      "needs_background": "light"
     },
     "output_type": "display_data"
    }
   ],
   "source": [
    "# Most Common Words\n",
    "\n",
    "# Find the most common words\n",
    "\n",
    "n = 20  # number of top words\n",
    "vec = CountVectorizer(stop_words='english', max_features=n)\n",
    "X = vec.fit_transform(df.Text)\n",
    "words = vec.get_feature_names_out()\n",
    "counts = X.toarray().sum(axis=0)\n",
    "\n",
    "# Visualization\n",
    "\n",
    "idx = np.argsort(counts)\n",
    "\n",
    "fig, ax = plt.subplots(figsize=(10,5))\n",
    "ax.barh(y=words[idx], width=counts[idx])  # compare with plt.bar(x=words, height=counts)\n",
    "ax.set_title('20 Most Common Words', fontsize=20)\n",
    "ax.set_xlabel('Count of Word Occurrence');"
   ]
  },
  {
   "cell_type": "markdown",
   "metadata": {},
   "source": [
    "# Modeling and Prediction with Non-Negative Matrix Factorization"
   ]
  },
  {
   "cell_type": "markdown",
   "metadata": {},
   "source": [
    "## NMF Modeling"
   ]
  },
  {
   "cell_type": "code",
   "execution_count": 128,
   "metadata": {},
   "outputs": [],
   "source": [
    "# Building datasets\n",
    "\n",
    "# Note:  train and test data sets imported above\n",
    "# Note:  helper function clean_text defined above\n",
    "\n",
    "# Combine train and test sets\n",
    "\n",
    "full_set = pd.concat([train, test], axis=0, ignore_index=True)\n",
    "\n",
    "# Find dtm (document term matrix) matrix of tfidf values\n",
    "\n",
    "vec = TfidfVectorizer(lowercase=True, preprocessor=clean_text, ngram_range=(1,2), max_df=0.9, min_df=2, stop_words='english')\n",
    "X = vec.fit_transform(full_set.Text)"
   ]
  },
  {
   "cell_type": "code",
   "execution_count": 129,
   "metadata": {},
   "outputs": [
    {
     "name": "stdout",
     "output_type": "stream",
     "text": [
      "the top 20 words for topic # 0\n",
      "['robinson', 'chelsea', 'season', 'world', 'injury', 'club', 'coach', 'france', 'match', 'team', 'play', 'rugby', 'players', 'said', 'ireland', 'cup', 'wales', 'win', 'game', 'england']\n",
      "\n",
      "the top 20 words for topic # 1\n",
      "['leader', 'campaign', 'tories', 'tory', 'tax', 'chancellor', 'prime minister', 'prime', 'minister', 'howard', 'government', 'mr brown', 'mr blair', 'said', 'party', 'brown', 'election', 'blair', 'labour', 'mr']\n",
      "\n",
      "the top 20 words for topic # 2\n",
      "['analysts', 'rise', 'government', 'firm', 'dollar', 'shares', 'company', 'prices', 'china', 'market', 'economic', 'yukos', 'year', 'sales', 'bank', 'oil', 'economy', 'growth', 'said', 'bn']\n",
      "\n",
      "the top 20 words for topic # 3\n",
      "['oscars', 'ceremony', 'british', 'year', 'prize', 'star', 'nominations', 'comedy', 'aviator', 'director', 'oscar', 'festival', 'films', 'won', 'actress', 'actor', 'award', 'awards', 'best', 'film']\n",
      "\n",
      "the top 20 words for topic # 4\n",
      "['games', 'service', 'search', 'video', 'online', 'use', 'tv', 'microsoft', 'phones', 'software', 'net', 'broadband', 'users', 'digital', 'phone', 'technology', 'said', 'music', 'mobile', 'people']\n",
      "\n"
     ]
    }
   ],
   "source": [
    "# Learn NMF model\n",
    "\n",
    "nmf_model = NMF(n_components=5, init='nndsvda', max_iter=500, random_state=0)\n",
    "nmf_model.fit(X)\n",
    "\n",
    "# Show the top n words for each topic\n",
    "\n",
    "n = 20\n",
    "for index, topic in enumerate(nmf_model.components_):\n",
    "    print(f'the top 20 words for topic # {index}')\n",
    "    print([vec.get_feature_names_out()[i] for i in topic.argsort()[-n:]])\n",
    "    print()"
   ]
  },
  {
   "cell_type": "code",
   "execution_count": 130,
   "metadata": {},
   "outputs": [],
   "source": [
    "# Predict topics for documents\n",
    "\n",
    "# Use NMF to find the predicted topics for documents\n",
    "topic_results = nmf_model.transform(X)   # shape # (2225, 5)\n",
    "\n",
    "# NMF learns a W matrix of m x k with correlation values for each document with each topic\n",
    "# example:   topic_results[0]) = [0.         0.02647745 0.06104011 0.00101945 0.0056669 ]\n",
    "\n",
    "# Assign the highest document-topic correlation to the document as prediction\n",
    "\n",
    "topic_pred = topic_results.argmax(axis=1)\n",
    "full_set['Topic'] = topic_pred"
   ]
  },
  {
   "cell_type": "markdown",
   "metadata": {},
   "source": [
    "Now must decide how to label the topic numbers. Can be done with domain knowledge by looking at the top words in each topic.  \n",
    "Alternatively, can be done with iterative combinations to find best accuracy.\n",
    "In this case, we can take advantage of the domain expertise already applied to the train set and leverage that to assign labels to topic numbers."
   ]
  },
  {
   "cell_type": "code",
   "execution_count": 131,
   "metadata": {},
   "outputs": [],
   "source": [
    "# Assign Topic Label to the Topic Number - direct assignment\n",
    "\n",
    "full_set.head(20)\n",
    "\n",
    "# using a dict map to make the labels\n",
    "topic_dict = {\n",
    "    0: 'sport',\n",
    "    1: 'politics',\n",
    "    2: 'business',\n",
    "    3: 'entertainment',\n",
    "    4: 'tech'\n",
    "}\n",
    "\n",
    "full_set['Topic Label'] = full_set['Topic'].map(topic_dict)"
   ]
  },
  {
   "cell_type": "code",
   "execution_count": 132,
   "metadata": {},
   "outputs": [],
   "source": [
    "# Assign Topic Label to the Topic Number - by permutation\n",
    "\n",
    "import itertools\n",
    "\n",
    "def label_permute(true, pred):\n",
    "    '''\n",
    "    Parameters:\n",
    "    true: array of true / correct classficiation labels as strings  eg 'A', 'B', 'C'\n",
    "    pred: array of predicted classification labels as integers from 0 to n-1  eg 0, 1, 2\n",
    "    Returns:\n",
    "    best_acc:  accuracy score for the best match of topic #s to labels\n",
    "    mapping:  dictionary with k,v pairs of #s: labels\n",
    "    mapped:  array of labels mapped from the predicted values given\n",
    "    '''\n",
    "    # permute the true (string) labels\n",
    "    labels = np.unique(true)\n",
    "    permutes = list(itertools.permutations(labels))\n",
    "\n",
    "    best_acc = -1\n",
    "    for perm in permutes:\n",
    "        pred_map = [perm[i] for i in pred]  # map the predicted (ints) to permuted (str) labels\n",
    "        acc = accuracy_score(true, pred_map)\n",
    "        # acc = (true == pred_map).sum() / len(true)\n",
    "        if acc > best_acc:\n",
    "            best_acc = acc\n",
    "            best_map = perm\n",
    "\n",
    "    mapped = [best_map[i] for i in pred]\n",
    "\n",
    "    mapping = dict(zip(range(len(best_map)), best_map))\n",
    "\n",
    "    return best_acc, mapping, mapped\n"
   ]
  },
  {
   "cell_type": "code",
   "execution_count": 135,
   "metadata": {},
   "outputs": [],
   "source": [
    "# label_permute must be done on set(s) with known labels, i.e. train set only\n",
    "\n",
    "idx = full_set[full_set['Category'].notna()].index  # get the index of the \"train\" set with know Category labels\n",
    "\n",
    "best_acc, mapping, mapped = label_permute(true=full_set.loc[idx]['Category'], pred=full_set.loc[idx]['Topic'])\n",
    "\n",
    "full_set['Topic Label - perm'] = full_set['Topic'].map(mapping)\n",
    "\n",
    "assert(np.all(full_set['Topic Label'] == full_set['Topic Label - perm']))"
   ]
  },
  {
   "cell_type": "markdown",
   "metadata": {},
   "source": [
    "## Assessing Model Performance"
   ]
  },
  {
   "cell_type": "code",
   "execution_count": 136,
   "metadata": {},
   "outputs": [
    {
     "name": "stdout",
     "output_type": "stream",
     "text": [
      "accuracy score: 0.9222222222222223\n"
     ]
    }
   ],
   "source": [
    "# Check Accuracy and Confusion Matrix\n",
    "\n",
    "true = full_set[full_set.Category.notna()]['Category']\n",
    "pred = full_set[full_set.Category.notna()]['Topic Label']\n",
    "\n",
    "acc = accuracy_score(true, pred)\n",
    "print('accuracy score:', acc)\n",
    "\n",
    "conf_mat = confusion_matrix(true, pred)\n",
    "# print(conf_mat)"
   ]
  },
  {
   "cell_type": "code",
   "execution_count": 137,
   "metadata": {},
   "outputs": [],
   "source": [
    "\n",
    "# Optional:  Additional Scoring provided by classification_report\n",
    "# print(classification_report(true, pred))"
   ]
  },
  {
   "cell_type": "code",
   "execution_count": 138,
   "metadata": {},
   "outputs": [
    {
     "data": {
      "image/png": "[encoded data removed]",
      "text/plain": [
       "<Figure size 864x576 with 2 Axes>"
      ]
     },
     "metadata": {
      "needs_background": "light"
     },
     "output_type": "display_data"
    }
   ],
   "source": [
    "# Visualization of Confusion Matrix\n",
    "\n",
    "labels = ['sports', 'politics', 'bus', 'ent', 'tech']\n",
    "counts = conf_mat.flatten()\n",
    "p = (conf_mat/np.sum(conf_mat, axis=1)).flatten()\n",
    "accuracy = p[::6]\n",
    "\n",
    "annots = [str(count) for count in counts]\n",
    "for i in range(len(accuracy)):\n",
    "    annots[i*6] = annots[i*6] + '\\n' + f'{accuracy[i]:.2%}'\n",
    "\n",
    "annots = np.asarray(annots).reshape(5,5)\n",
    "\n",
    "fix, ax = plt.subplots(figsize=(12,8))\n",
    "sns.heatmap(conf_mat/np.sum(conf_mat, axis=1), cmap='rocket_r', annot=annots, fmt='', annot_kws={'size': 16}, xticklabels=labels, yticklabels=labels)\n",
    "plt.xlabel('Predicted\\n\\ncell % represents TPR (Recall)', fontsize=16)\n",
    "plt.ylabel('True', fontsize=16)\n",
    "plt.title('Confusion Matrix', fontsize=20)\n",
    "plt.show()"
   ]
  },
  {
   "cell_type": "code",
   "execution_count": 139,
   "metadata": {},
   "outputs": [
    {
     "name": "stdout",
     "output_type": "stream",
     "text": [
      "submission output written to file\n"
     ]
    }
   ],
   "source": [
    "# Kaggle Scoring - Test Accuracy\n",
    "\n",
    "predicted = full_set[full_set.Category.isnull()]['Topic Label']\n",
    "\n",
    "submission = pd.DataFrame({\n",
    "    'ArticleId': full_set[full_set.Category.isnull()]['ArticleId'],\n",
    "    'Category': predicted\n",
    "})\n",
    "submission.to_csv('submission_nmf_unsupervised.csv', index=False)\n",
    "print('submission output written to file')"
   ]
  },
  {
   "cell_type": "markdown",
   "metadata": {},
   "source": [
    "Kaggle score:  **0.93197**"
   ]
  },
  {
   "cell_type": "code",
   "execution_count": 149,
   "metadata": {},
   "outputs": [],
   "source": [
    "nmf_test_acc = 0.93197"
   ]
  },
  {
   "cell_type": "markdown",
   "metadata": {},
   "source": [
    "## NMF Parameter Tuning"
   ]
  },
  {
   "cell_type": "code",
   "execution_count": 141,
   "metadata": {},
   "outputs": [],
   "source": [
    "# a helper function for model testing which accepts variable parameters\n",
    "'''\n",
    "any of (ngram_range, max_df, min_df, max_features, solver, beta_loss) can be specified; otherwise uses default value\n",
    "returns list of paramater values used and accuracy score\n",
    "'''\n",
    "\n",
    "def model_testing (ngram_range = (1,1), max_df = 1.0, min_df = 1, max_features = None, solver = 'cd', beta_loss = 'frobenius'):\n",
    "\n",
    "    vec = TfidfVectorizer(lowercase=True, preprocessor=clean_text, ngram_range=ngram_range, max_df=max_df, min_df=min_df, max_features=max_features, stop_words='english')\n",
    "    X_opt = vec.fit_transform(full_set.Text)\n",
    "\n",
    "    nmf_opt = NMF(n_components=5, init='nndsvda', solver=solver, beta_loss=beta_loss, max_iter=500, random_state=0)\n",
    "    nmf_opt.fit(X_opt)\n",
    "\n",
    "    pred_opt = nmf_opt.transform(X_opt).argmax(axis=1)  # .map(topic_dict)\n",
    "    pred_opt = np.vectorize(topic_dict.get)(pred_opt)   # map np.array to dict values\n",
    "    idx_tr = full_set[full_set.Category.notna()].index\n",
    "    pred_opt = pred_opt[idx_tr]\n",
    "\n",
    "    acc_opt = accuracy_score(true, pred_opt)\n",
    "    # print('accuracy score:', acc_opt)\n",
    "\n",
    "    return [str(ngram_range), max_df, min_df, max_features, solver, beta_loss, acc_opt]\n"
   ]
  },
  {
   "cell_type": "code",
   "execution_count": 142,
   "metadata": {},
   "outputs": [
    {
     "data": {
      "text/html": [
       "<style type=\"text/css\">\n",
       "#T_3f993_row2_col6 {\n",
       "  background-color: yellow;\n",
       "}\n",
       "</style>\n",
       "<table id=\"T_3f993\">\n",
       "  <thead>\n",
       "    <tr>\n",
       "      <th class=\"blank level0\" >&nbsp;</th>\n",
       "      <th id=\"T_3f993_level0_col0\" class=\"col_heading level0 col0\" >ngram_range</th>\n",
       "      <th id=\"T_3f993_level0_col1\" class=\"col_heading level0 col1\" >max_df</th>\n",
       "      <th id=\"T_3f993_level0_col2\" class=\"col_heading level0 col2\" >min_df</th>\n",
       "      <th id=\"T_3f993_level0_col3\" class=\"col_heading level0 col3\" >max_features</th>\n",
       "      <th id=\"T_3f993_level0_col4\" class=\"col_heading level0 col4\" >solver</th>\n",
       "      <th id=\"T_3f993_level0_col5\" class=\"col_heading level0 col5\" >beta_loss</th>\n",
       "      <th id=\"T_3f993_level0_col6\" class=\"col_heading level0 col6\" >accuracy</th>\n",
       "    </tr>\n",
       "  </thead>\n",
       "  <tbody>\n",
       "    <tr>\n",
       "      <th id=\"T_3f993_level0_row0\" class=\"row_heading level0 row0\" >0</th>\n",
       "      <td id=\"T_3f993_row0_col0\" class=\"data row0 col0\" >(1, 1)</td>\n",
       "      <td id=\"T_3f993_row0_col1\" class=\"data row0 col1\" >1.000000</td>\n",
       "      <td id=\"T_3f993_row0_col2\" class=\"data row0 col2\" >1</td>\n",
       "      <td id=\"T_3f993_row0_col3\" class=\"data row0 col3\" >None</td>\n",
       "      <td id=\"T_3f993_row0_col4\" class=\"data row0 col4\" >cd</td>\n",
       "      <td id=\"T_3f993_row0_col5\" class=\"data row0 col5\" >frobenius</td>\n",
       "      <td id=\"T_3f993_row0_col6\" class=\"data row0 col6\" >0.560420</td>\n",
       "    </tr>\n",
       "    <tr>\n",
       "      <th id=\"T_3f993_level0_row1\" class=\"row_heading level0 row1\" >1</th>\n",
       "      <td id=\"T_3f993_row1_col0\" class=\"data row1 col0\" >(1, 2)</td>\n",
       "      <td id=\"T_3f993_row1_col1\" class=\"data row1 col1\" >0.900000</td>\n",
       "      <td id=\"T_3f993_row1_col2\" class=\"data row1 col2\" >2</td>\n",
       "      <td id=\"T_3f993_row1_col3\" class=\"data row1 col3\" >None</td>\n",
       "      <td id=\"T_3f993_row1_col4\" class=\"data row1 col4\" >cd</td>\n",
       "      <td id=\"T_3f993_row1_col5\" class=\"data row1 col5\" >frobenius</td>\n",
       "      <td id=\"T_3f993_row1_col6\" class=\"data row1 col6\" >0.922220</td>\n",
       "    </tr>\n",
       "    <tr>\n",
       "      <th id=\"T_3f993_level0_row2\" class=\"row_heading level0 row2\" >2</th>\n",
       "      <td id=\"T_3f993_row2_col0\" class=\"data row2 col0\" >(1, 2)</td>\n",
       "      <td id=\"T_3f993_row2_col1\" class=\"data row2 col1\" >0.900000</td>\n",
       "      <td id=\"T_3f993_row2_col2\" class=\"data row2 col2\" >2</td>\n",
       "      <td id=\"T_3f993_row2_col3\" class=\"data row2 col3\" >None</td>\n",
       "      <td id=\"T_3f993_row2_col4\" class=\"data row2 col4\" >mu</td>\n",
       "      <td id=\"T_3f993_row2_col5\" class=\"data row2 col5\" >kullback-leibler</td>\n",
       "      <td id=\"T_3f993_row2_col6\" class=\"data row2 col6\" >0.961810</td>\n",
       "    </tr>\n",
       "    <tr>\n",
       "      <th id=\"T_3f993_level0_row3\" class=\"row_heading level0 row3\" >3</th>\n",
       "      <td id=\"T_3f993_row3_col0\" class=\"data row3 col0\" >(1, 2)</td>\n",
       "      <td id=\"T_3f993_row3_col1\" class=\"data row3 col1\" >0.800000</td>\n",
       "      <td id=\"T_3f993_row3_col2\" class=\"data row3 col2\" >5</td>\n",
       "      <td id=\"T_3f993_row3_col3\" class=\"data row3 col3\" >None</td>\n",
       "      <td id=\"T_3f993_row3_col4\" class=\"data row3 col4\" >mu</td>\n",
       "      <td id=\"T_3f993_row3_col5\" class=\"data row3 col5\" >kullback-leibler</td>\n",
       "      <td id=\"T_3f993_row3_col6\" class=\"data row3 col6\" >0.649310</td>\n",
       "    </tr>\n",
       "    <tr>\n",
       "      <th id=\"T_3f993_level0_row4\" class=\"row_heading level0 row4\" >4</th>\n",
       "      <td id=\"T_3f993_row4_col0\" class=\"data row4 col0\" >(1, 2)</td>\n",
       "      <td id=\"T_3f993_row4_col1\" class=\"data row4 col1\" >0.800000</td>\n",
       "      <td id=\"T_3f993_row4_col2\" class=\"data row4 col2\" >10</td>\n",
       "      <td id=\"T_3f993_row4_col3\" class=\"data row4 col3\" >None</td>\n",
       "      <td id=\"T_3f993_row4_col4\" class=\"data row4 col4\" >mu</td>\n",
       "      <td id=\"T_3f993_row4_col5\" class=\"data row4 col5\" >kullback-leibler</td>\n",
       "      <td id=\"T_3f993_row4_col6\" class=\"data row4 col6\" >0.960420</td>\n",
       "    </tr>\n",
       "    <tr>\n",
       "      <th id=\"T_3f993_level0_row5\" class=\"row_heading level0 row5\" >5</th>\n",
       "      <td id=\"T_3f993_row5_col0\" class=\"data row5 col0\" >(1, 2)</td>\n",
       "      <td id=\"T_3f993_row5_col1\" class=\"data row5 col1\" >0.800000</td>\n",
       "      <td id=\"T_3f993_row5_col2\" class=\"data row5 col2\" >20</td>\n",
       "      <td id=\"T_3f993_row5_col3\" class=\"data row5 col3\" >None</td>\n",
       "      <td id=\"T_3f993_row5_col4\" class=\"data row5 col4\" >mu</td>\n",
       "      <td id=\"T_3f993_row5_col5\" class=\"data row5 col5\" >kullback-leibler</td>\n",
       "      <td id=\"T_3f993_row5_col6\" class=\"data row5 col6\" >0.955560</td>\n",
       "    </tr>\n",
       "    <tr>\n",
       "      <th id=\"T_3f993_level0_row6\" class=\"row_heading level0 row6\" >6</th>\n",
       "      <td id=\"T_3f993_row6_col0\" class=\"data row6 col0\" >(1, 2)</td>\n",
       "      <td id=\"T_3f993_row6_col1\" class=\"data row6 col1\" >0.8</td>\n",
       "      <td id=\"T_3f993_row6_col2\" class=\"data row6 col2\" >20</td>\n",
       "      <td id=\"T_3f993_row6_col3\" class=\"data row6 col3\" >100</td>\n",
       "      <td id=\"T_3f993_row6_col4\" class=\"data row6 col4\" >mu</td>\n",
       "      <td id=\"T_3f993_row6_col5\" class=\"data row6 col5\" >kullback-leibler</td>\n",
       "      <td id=\"T_3f993_row6_col6\" class=\"data row6 col6\" >0.477080</td>\n",
       "    </tr>\n",
       "    <tr>\n",
       "      <th id=\"T_3f993_level0_row7\" class=\"row_heading level0 row7\" >7</th>\n",
       "      <td id=\"T_3f993_row7_col0\" class=\"data row7 col0\" >(1, 2)</td>\n",
       "      <td id=\"T_3f993_row7_col1\" class=\"data row7 col1\" >0.8</td>\n",
       "      <td id=\"T_3f993_row7_col2\" class=\"data row7 col2\" >20</td>\n",
       "      <td id=\"T_3f993_row7_col3\" class=\"data row7 col3\" >500</td>\n",
       "      <td id=\"T_3f993_row7_col4\" class=\"data row7 col4\" >mu</td>\n",
       "      <td id=\"T_3f993_row7_col5\" class=\"data row7 col5\" >kullback-leibler</td>\n",
       "      <td id=\"T_3f993_row7_col6\" class=\"data row7 col6\" >0.932640</td>\n",
       "    </tr>\n",
       "    <tr>\n",
       "      <th id=\"T_3f993_level0_row8\" class=\"row_heading level0 row8\" >8</th>\n",
       "      <td id=\"T_3f993_row8_col0\" class=\"data row8 col0\" >(1, 2)</td>\n",
       "      <td id=\"T_3f993_row8_col1\" class=\"data row8 col1\" >0.8</td>\n",
       "      <td id=\"T_3f993_row8_col2\" class=\"data row8 col2\" >20</td>\n",
       "      <td id=\"T_3f993_row8_col3\" class=\"data row8 col3\" >1000</td>\n",
       "      <td id=\"T_3f993_row8_col4\" class=\"data row8 col4\" >mu</td>\n",
       "      <td id=\"T_3f993_row8_col5\" class=\"data row8 col5\" >kullback-leibler</td>\n",
       "      <td id=\"T_3f993_row8_col6\" class=\"data row8 col6\" >0.953470</td>\n",
       "    </tr>\n",
       "  </tbody>\n",
       "</table>\n"
      ],
      "text/plain": [
       "<pandas.io.formats.style.Styler at 0x1be5c2a5480>"
      ]
     },
     "execution_count": 142,
     "metadata": {},
     "output_type": "execute_result"
    }
   ],
   "source": [
    "cols = ['ngram_range', 'max_df', 'min_df', 'max_features', 'solver', 'beta_loss', 'accuracy']\n",
    "results_tuning = pd.DataFrame(columns=cols)\n",
    "\n",
    "param_list = [\n",
    "    {},\n",
    "    {'ngram_range': (1,2), 'max_df': 0.9, 'min_df': 2},\n",
    "    {'ngram_range': (1,2), 'max_df': 0.9, 'min_df': 2, 'solver': 'mu', 'beta_loss': 'kullback-leibler'},\n",
    "    {'ngram_range': (1,2), 'max_df': 0.8, 'min_df': 5, 'solver': 'mu', 'beta_loss': 'kullback-leibler'},\n",
    "    {'ngram_range': (1,2), 'max_df': 0.8, 'min_df': 10, 'solver': 'mu', 'beta_loss': 'kullback-leibler'},\n",
    "    {'ngram_range': (1,2), 'max_df': 0.8, 'min_df': 20, 'solver': 'mu', 'beta_loss': 'kullback-leibler'},\n",
    "    {'ngram_range': (1,2), 'max_df': 0.8, 'min_df': 20, 'solver': 'mu', 'beta_loss': 'kullback-leibler', 'max_features': 100},\n",
    "    {'ngram_range': (1,2), 'max_df': 0.8, 'min_df': 20, 'solver': 'mu', 'beta_loss': 'kullback-leibler', 'max_features': 500},\n",
    "    {'ngram_range': (1,2), 'max_df': 0.8, 'min_df': 20, 'solver': 'mu', 'beta_loss': 'kullback-leibler', 'max_features': 1000}\n",
    "]\n",
    "\n",
    "for params in param_list:\n",
    "    res = np.array([model_testing(**params)])\n",
    "    # print(res)\n",
    "    df = pd.DataFrame(res, columns=cols)\n",
    "    results_tuning = pd.concat([results_tuning, df], ignore_index=True)\n",
    "\n",
    "results_tuning.accuracy = results_tuning.accuracy.astype(float).round(5)\n",
    "results_tuning.style.highlight_max(subset='accuracy')"
   ]
  },
  {
   "cell_type": "markdown",
   "metadata": {},
   "source": [
    "## Testing Optimized Model"
   ]
  },
  {
   "cell_type": "code",
   "execution_count": 143,
   "metadata": {},
   "outputs": [],
   "source": [
    "# define optimized parameters\n",
    "\n",
    "ngram_range=(1,2)\n",
    "max_df=0.9\n",
    "min_df=2\n",
    "max_features=None\n",
    "solver='mu'\n",
    "beta_loss='kullback-leibler'"
   ]
  },
  {
   "cell_type": "code",
   "execution_count": 144,
   "metadata": {},
   "outputs": [],
   "source": [
    "# model and predict with NMF and optimized parameters\n",
    "\n",
    "vec = TfidfVectorizer(lowercase=True, preprocessor=clean_text, ngram_range=ngram_range, max_df=max_df, min_df=min_df, max_features=max_features, stop_words='english')\n",
    "X_opt = vec.fit_transform(full_set.Text)\n",
    "\n",
    "nmf_opt = NMF(n_components=5, init='nndsvda', solver=solver, beta_loss=beta_loss, max_iter=500, random_state=0)\n",
    "nmf_opt.fit(X_opt)\n",
    "\n",
    "pred_opt = nmf_opt.transform(X_opt).argmax(axis=1)  # .map(topic_dict)\n",
    "pred_opt = np.vectorize(topic_dict.get)(pred_opt)   # map np.array to dict values\n",
    "idx_tr = full_set[full_set.Category.notna()].index\n",
    "pred_opt_tr = pred_opt[idx_tr]"
   ]
  },
  {
   "cell_type": "code",
   "execution_count": 145,
   "metadata": {},
   "outputs": [
    {
     "name": "stdout",
     "output_type": "stream",
     "text": [
      "accuracy score: 0.9618055555555556\n"
     ]
    }
   ],
   "source": [
    "# Assess training accuracy\n",
    "\n",
    "acc_opt = accuracy_score(true, pred_opt_tr)\n",
    "print('accuracy score:', acc_opt)"
   ]
  },
  {
   "cell_type": "code",
   "execution_count": 146,
   "metadata": {},
   "outputs": [
    {
     "data": {
      "image/png": "[encoded data removed]",
      "text/plain": [
       "<Figure size 864x576 with 2 Axes>"
      ]
     },
     "metadata": {
      "needs_background": "light"
     },
     "output_type": "display_data"
    }
   ],
   "source": [
    "# Visualizaton of Confusion Matrix\n",
    "\n",
    "conf_mat_opt = confusion_matrix(true, pred_opt_tr)\n",
    "labels = ['sports', 'politics', 'bus', 'ent', 'tech']\n",
    "\n",
    "counts = conf_mat_opt.flatten()\n",
    "p = (conf_mat_opt/np.sum(conf_mat_opt, axis=1)).flatten()\n",
    "accuracy = p[::6]\n",
    "\n",
    "annots = [str(count) for count in counts]\n",
    "for i in range(len(accuracy)):\n",
    "    annots[i*6] = annots[i*6] + '\\n' + f'{accuracy[i]:.2%}'\n",
    "\n",
    "annots = np.asarray(annots).reshape(5,5)\n",
    "\n",
    "fix, ax = plt.subplots(figsize=(12,8))\n",
    "sns.heatmap(conf_mat_opt/np.sum(conf_mat_opt, axis=1), cmap='rocket_r', annot=annots, fmt='', annot_kws={'size': 16}, xticklabels=labels, yticklabels=labels)\n",
    "plt.xlabel('Predicted\\n\\ncell % represents TPR (Recall)', fontsize=16)\n",
    "plt.ylabel('True', fontsize=16)\n",
    "plt.title('Confusion Matrix', fontsize=20);"
   ]
  },
  {
   "cell_type": "code",
   "execution_count": 147,
   "metadata": {},
   "outputs": [
    {
     "name": "stdout",
     "output_type": "stream",
     "text": [
      "submission output written to file\n"
     ]
    }
   ],
   "source": [
    "# Kaggle Scoring - Test Accuracy\n",
    "\n",
    "idx_test = full_set[full_set.Category.isnull()].index\n",
    "pred_opt_test = pred_opt[idx_test]\n",
    "predicted = pred_opt_test\n",
    "\n",
    "submission = pd.DataFrame({\n",
    "    'ArticleId': full_set[full_set.Category.isnull()]['ArticleId'],\n",
    "    'Category': predicted\n",
    "})\n",
    "submission.to_csv('submission_nmf_unsupervised_tuned.csv', index=False)\n",
    "print('submission output written to file')"
   ]
  },
  {
   "cell_type": "markdown",
   "metadata": {},
   "source": [
    "Kaggle score:  **0.96734**"
   ]
  },
  {
   "cell_type": "code",
   "execution_count": 150,
   "metadata": {},
   "outputs": [],
   "source": [
    "nmf_tuned_test_acc = 0.96734"
   ]
  },
  {
   "cell_type": "markdown",
   "metadata": {},
   "source": [
    "# Modeling and Prediction with Supervised Learning"
   ]
  },
  {
   "cell_type": "markdown",
   "metadata": {},
   "source": [
    "Note that the train and test sets will both have some words that are not in the other set.  With tokenizing words, each set will have some differing features.  Supervised Learning models will require the same features to be present in both train and test sets in order to perform fit and predict functions and determine train and test accuracy scoring.  Alternatively, k-fold cross validation can be used training sets for a reasonable  measure of accuracy.  \n",
    "\n",
    "Comparison with multiple Supervised Learning techniques."
   ]
  },
  {
   "cell_type": "code",
   "execution_count": 151,
   "metadata": {},
   "outputs": [],
   "source": [
    "# import modules\n",
    "\n",
    "from sklearn.naive_bayes import MultinomialNB\n",
    "from sklearn.linear_model import LogisticRegression\n",
    "from sklearn.neighbors import KNeighborsClassifier\n",
    "from sklearn.svm import SVC\n",
    "from sklearn.ensemble import RandomForestClassifier"
   ]
  },
  {
   "cell_type": "code",
   "execution_count": 152,
   "metadata": {},
   "outputs": [],
   "source": [
    "# Define datasets\n",
    "#  Note:  previously defined tfidvectorized matrix based on full_text:  X = vec.fit_transform(full_set.Text)\n",
    "# Training data set must contain all features but only observations with known classifications are used for training.\n",
    "\n",
    "# separate the training set from the full_set\n",
    "idx_train = full_set[full_set.Category.notna()].index\n",
    "X_train = X[idx_train, :]\n",
    "y = full_set.iloc[idx_train, :].Category  # could alternatively use `true` previously defined\n",
    "\n",
    "# Note that KNN will addtionally requires that the data is normalized"
   ]
  },
  {
   "cell_type": "code",
   "execution_count": 153,
   "metadata": {},
   "outputs": [],
   "source": [
    "# Train and test supervised models\n",
    "\n",
    "classifiers = [MultinomialNB(), LogisticRegression(), SVC(), RandomForestClassifier()]\n",
    "knn = KNeighborsClassifier(n_neighbors=5)\n",
    "\n",
    "results_supervised = pd.DataFrame(columns = ['Model', 'CV-train'])\n",
    "\n",
    "for clf in classifiers:\n",
    "    cv = cross_val_score(clf, X_train, y, scoring='accuracy', cv=None, n_jobs=-1)      # default cv 'None' is 5-fold\n",
    "    results_supervised.loc[len(results_supervised)] = {'Model': clf.__class__.__name__.replace('Classifier', ''), 'CV-train': cv.mean().round(5)}\n",
    "\n",
    "# an additional round using KNN with normalized X matrix\n",
    "\n",
    "import sklearn.preprocessing as preprocessing\n",
    "X_train_normd = preprocessing.normalize(X_train, norm='l2')\n",
    "\n",
    "clf=knn\n",
    "cv = cross_val_score(clf, X_train_normd, y, scoring='accuracy', cv=None, n_jobs=-1)\n",
    "results_supervised.loc[len(results_supervised)] = {'Model': clf.__class__.__name__.replace('Classifier', ''), 'CV-train': cv.mean().round(5)}\n",
    "\n",
    "# results_supervised  # to view results"
   ]
  },
  {
   "cell_type": "code",
   "execution_count": 154,
   "metadata": {},
   "outputs": [
    {
     "data": {
      "text/html": [
       "<style type=\"text/css\">\n",
       "#T_9dc87_row8_col1 {\n",
       "  background-color: yellow;\n",
       "}\n",
       "</style>\n",
       "<table id=\"T_9dc87\">\n",
       "  <thead>\n",
       "    <tr>\n",
       "      <th class=\"blank level0\" >&nbsp;</th>\n",
       "      <th id=\"T_9dc87_level0_col0\" class=\"col_heading level0 col0\" >Model</th>\n",
       "      <th id=\"T_9dc87_level0_col1\" class=\"col_heading level0 col1\" >Accuracy</th>\n",
       "    </tr>\n",
       "  </thead>\n",
       "  <tbody>\n",
       "    <tr>\n",
       "      <th id=\"T_9dc87_level0_row0\" class=\"row_heading level0 row0\" >0</th>\n",
       "      <td id=\"T_9dc87_row0_col0\" class=\"data row0 col0\" >MultinomialNB</td>\n",
       "      <td id=\"T_9dc87_row0_col1\" class=\"data row0 col1\" >0.960420</td>\n",
       "    </tr>\n",
       "    <tr>\n",
       "      <th id=\"T_9dc87_level0_row1\" class=\"row_heading level0 row1\" >1</th>\n",
       "      <td id=\"T_9dc87_row1_col0\" class=\"data row1 col0\" >LogisticRegression</td>\n",
       "      <td id=\"T_9dc87_row1_col1\" class=\"data row1 col1\" >0.965970</td>\n",
       "    </tr>\n",
       "    <tr>\n",
       "      <th id=\"T_9dc87_level0_row2\" class=\"row_heading level0 row2\" >2</th>\n",
       "      <td id=\"T_9dc87_row2_col0\" class=\"data row2 col0\" >SVC</td>\n",
       "      <td id=\"T_9dc87_row2_col1\" class=\"data row2 col1\" >0.963190</td>\n",
       "    </tr>\n",
       "    <tr>\n",
       "      <th id=\"T_9dc87_level0_row3\" class=\"row_heading level0 row3\" >3</th>\n",
       "      <td id=\"T_9dc87_row3_col0\" class=\"data row3 col0\" >RandomForest</td>\n",
       "      <td id=\"T_9dc87_row3_col1\" class=\"data row3 col1\" >0.952780</td>\n",
       "    </tr>\n",
       "    <tr>\n",
       "      <th id=\"T_9dc87_level0_row4\" class=\"row_heading level0 row4\" >4</th>\n",
       "      <td id=\"T_9dc87_row4_col0\" class=\"data row4 col0\" >KNeighbors</td>\n",
       "      <td id=\"T_9dc87_row4_col1\" class=\"data row4 col1\" >0.942360</td>\n",
       "    </tr>\n",
       "    <tr>\n",
       "      <th id=\"T_9dc87_level0_row5\" class=\"row_heading level0 row5\" >5</th>\n",
       "      <td id=\"T_9dc87_row5_col0\" class=\"data row5 col0\" >NMF-train</td>\n",
       "      <td id=\"T_9dc87_row5_col1\" class=\"data row5 col1\" >0.922220</td>\n",
       "    </tr>\n",
       "    <tr>\n",
       "      <th id=\"T_9dc87_level0_row6\" class=\"row_heading level0 row6\" >6</th>\n",
       "      <td id=\"T_9dc87_row6_col0\" class=\"data row6 col0\" >NMF-test</td>\n",
       "      <td id=\"T_9dc87_row6_col1\" class=\"data row6 col1\" >0.931970</td>\n",
       "    </tr>\n",
       "    <tr>\n",
       "      <th id=\"T_9dc87_level0_row7\" class=\"row_heading level0 row7\" >7</th>\n",
       "      <td id=\"T_9dc87_row7_col0\" class=\"data row7 col0\" >NMF-tuned-train</td>\n",
       "      <td id=\"T_9dc87_row7_col1\" class=\"data row7 col1\" >0.961810</td>\n",
       "    </tr>\n",
       "    <tr>\n",
       "      <th id=\"T_9dc87_level0_row8\" class=\"row_heading level0 row8\" >8</th>\n",
       "      <td id=\"T_9dc87_row8_col0\" class=\"data row8 col0\" >NMF-tuned-test</td>\n",
       "      <td id=\"T_9dc87_row8_col1\" class=\"data row8 col1\" >0.967340</td>\n",
       "    </tr>\n",
       "  </tbody>\n",
       "</table>\n"
      ],
      "text/plain": [
       "<pandas.io.formats.style.Styler at 0x1be5c2a4970>"
      ]
     },
     "execution_count": 154,
     "metadata": {},
     "output_type": "execute_result"
    }
   ],
   "source": [
    "# add NMF results to results\n",
    "\n",
    "results_supervised.rename(columns={'CV-train': 'Accuracy'}, inplace=True)\n",
    "\n",
    "results_supervised.loc[len(results_supervised)] = {'Model': 'NMF-train', 'Accuracy': acc.round(5)}\n",
    "results_supervised.loc[len(results_supervised)] = {'Model': 'NMF-test', 'Accuracy': nmf_test_acc}\n",
    "results_supervised.loc[len(results_supervised)] = {'Model': 'NMF-tuned-train', 'Accuracy': acc_opt.round(5)}\n",
    "results_supervised.loc[len(results_supervised)] = {'Model': 'NMF-tuned-test', 'Accuracy': nmf_tuned_test_acc}\n",
    "\n",
    "results_supervised.style.highlight_max(subset='Accuracy')"
   ]
  },
  {
   "cell_type": "code",
   "execution_count": null,
   "metadata": {},
   "outputs": [],
   "source": []
  }
 ],
 "metadata": {
  "kernelspec": {
   "display_name": "Python 3",
   "language": "python",
   "name": "python3"
  },
  "language_info": {
   "codemirror_mode": {
    "name": "ipython",
    "version": 3
   },
   "file_extension": ".py",
   "mimetype": "text/x-python",
   "name": "python",
   "nbconvert_exporter": "python",
   "pygments_lexer": "ipython3",
   "version": "3.10.0"
  }
 },
 "nbformat": 4,
 "nbformat_minor": 2
}
